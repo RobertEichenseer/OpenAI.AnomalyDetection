{
 "cells": [
  {
   "cell_type": "markdown",
   "metadata": {},
   "source": [
    "# Anomaly Detection | Embeddings & Cosine Distance\n",
    "\n",
    "## Embeddings\n",
    "\n",
    "Embeddings are numerical representations of data, typically in a lower-dimensional vector space, that capture and preserve the semantic meaning of the input. By mapping words, phrases, or other forms of data to vectors, embeddings enable machines to understand and process the data based on their contextual relationships and similarities. \n",
    "\n",
    "In this sample [text-embedding-ada-002](https://openai.com/index/new-and-improved-embedding-model/) is used to detect anomalies in time series data in a simplified use case."
   ]
  },
  {
   "cell_type": "markdown",
   "metadata": {},
   "source": [
    "## Azure Environment\n",
    "\n",
    "To execute the sample code Azure service specific information like endpoint, api key etc. is needed. ([Details and instructions can be found here](../../CreateEnv/CreateEnv.azcli))\n"
   ]
  },
  {
   "cell_type": "markdown",
   "metadata": {},
   "source": [
    "## Step 1: Create OpenAIClient\n",
    "\n",
    "The OpenAIClient from Azure.AI.OpenAI is a .NET client library that acts as the centralized point for all .NET functionality that want to interact with a deployed Azure OpenAI Large Language Model. It provides methods to access the OpenAI REST APIs for various tasks such as text completion, text embedding, and chat completion, etc.. "
   ]
  },
  {
   "cell_type": "code",
   "execution_count": 13,
   "metadata": {
    "dotnet_interactive": {
     "language": "csharp"
    },
    "polyglot_notebook": {
     "kernelName": "csharp"
    }
   },
   "outputs": [
    {
     "data": {
      "text/html": [
       "<div><div></div><div></div><div><strong>Installed Packages</strong><ul><li><span>Azure.AI.OpenAI, 1.0.0-beta.17</span></li><li><span>DotNetEnv, 2.5.0</span></li><li><span>MathNet.Numerics, 5.0.0</span></li></ul></div></div>"
      ]
     },
     "metadata": {},
     "output_type": "display_data"
    },
    {
     "name": "stdout",
     "output_type": "stream",
     "text": [
      "OpenAI Client created...\r\n"
     ]
    }
   ],
   "source": [
    "#r \"nuget: Azure.AI.OpenAI, 1.0.0-beta.17\"\n",
    "#r \"nuget: DotNetEnv, 2.5.0\"\n",
    "#r \"nuget: MathNet.Numerics, 5.0.0\"\n",
    "\n",
    "using Azure; \n",
    "using Azure.AI.OpenAI;\n",
    "using DotNetEnv;\n",
    "using System.IO;\n",
    "using System.Text.Json; \n",
    "\n",
    "//configuration file is created during environment creation\n",
    "static string _configurationFile = @\"../../Configuration/application.env\";\n",
    "Env.Load(_configurationFile);\n",
    "\n",
    "string openAIApiKey = Environment.GetEnvironmentVariable(\"AOAI_APIKEY\") ?? \"\";\n",
    "string openAIEndpoint = Environment.GetEnvironmentVariable(\"AOAI_ENDPOINT\") ?? \"\";\n",
    "string embeddingDeploymentName = Environment.GetEnvironmentVariable(\"EMBEDDING_DEPLOYMENTNAME\") ?? \"\";\n",
    "\n",
    "AzureKeyCredential azureKeyCredential = new AzureKeyCredential(openAIApiKey);\n",
    "OpenAIClient openAIClient = new OpenAIClient(new Uri(openAIEndpoint), azureKeyCredential);\n",
    "\n",
    "\n",
    "Console.WriteLine($\"OpenAI Client created...\");"
   ]
  },
  {
   "cell_type": "markdown",
   "metadata": {},
   "source": [
    "## Step2: Prepare Time Series Data\n",
    "\n",
    "### Reference Time Series Data\n",
    "\n",
    "For this simplified sample, we are using [time series data](../../TestData/TestData_Reference.txt) from a fictitious device called Compressor1, which records a time stamp, current pressure, and current energy consumption. Over the first three seconds, both energy consumption and the pressure produced by the device increase. This is followed by a period of four data points where both energy consumption and pressure remain stable. In the final three data points, energy consumption drops to zero, and the pressure gradually decreases. This pattern reflects the operational dynamics of Compressor1 over the observed time period.\n",
    "\n",
    "![TimeSeriesTestData](../../media/img/TestData_Reference.png)\n",
    "\n",
    "### Time Series with Anomalies\n",
    "\n",
    "A compressor that requires maintenance, such as cleaning of a filter, may consume the same amount of energy but fail to produce the same level of pressure. This is evident in the test data, where despite consistent energy consumption, the pressure fails to reach its highest level over four consecutive data points, indicating a drop in efficiency and the need for maintenance.\n",
    "\n",
    "![TimeSeriesDegradation](../../media/img/TestData_Degradation.png)\n",
    "\n",
    "\n",
    "The time series data from Compressor1 is quite chatty, containing numerous additional values that are not essential for the analysis. Since the primary focus is on monitoring pressure and energy consumption, the data has is streamlined by removing all extraneous values, leaving only the relevant information for embeddings. There's streamlined [reference data](../../TestData/TestData_ReferenceRaw.txt), streamlined [data with anomalies](../../TestData/TestData_DegradationRaw.txt) as described above and for double checking time series data which [**isn't equal** to the reference data but quite similar](../../TestData/TestData_OkRaw.txt). \n",
    "\n"
   ]
  },
  {
   "cell_type": "markdown",
   "metadata": {},
   "source": [
    "## Step 3: Create Embeddings\n",
    "\n"
   ]
  },
  {
   "cell_type": "code",
   "execution_count": 14,
   "metadata": {
    "dotnet_interactive": {
     "language": "csharp"
    },
    "polyglot_notebook": {
     "kernelName": "csharp"
    }
   },
   "outputs": [
    {
     "name": "stdout",
     "output_type": "stream",
     "text": [
      "Embeddings created...\r\n"
     ]
    }
   ],
   "source": [
    "//Reference Data\n",
    "string referenceData = File.ReadAllText(\"../../TestData/TestData_ReferenceRaw.txt\");\n",
    "EmbeddingsOptions embeddingsOptions = new EmbeddingsOptions(embeddingDeploymentName, new List<string> { referenceData });\n",
    "var response = await openAIClient.GetEmbeddingsAsync( embeddingsOptions);\n",
    "float[] embeddingReferenceData = response.Value.Data[0].Embedding.ToArray();\n",
    "\n",
    "//Degradation Data\n",
    "string degradationData = File.ReadAllText(\"../../TestData/TestData_DegradationRaw.txt\");\n",
    "embeddingsOptions = new EmbeddingsOptions(embeddingDeploymentName, new List<string> { degradationData });\n",
    "response = await openAIClient.GetEmbeddingsAsync( embeddingsOptions);\n",
    "float[] embeddingDegradationData = response.Value.Data[0].Embedding.ToArray();\n",
    "\n",
    "//Ok'ish Data\n",
    "string okData = File.ReadAllText(\"../../TestData/TestData_OkRaw.txt\");\n",
    "embeddingsOptions = new EmbeddingsOptions(embeddingDeploymentName, new List<string> { okData });\n",
    "response = await openAIClient.GetEmbeddingsAsync( embeddingsOptions);\n",
    "float[] embeddingOkData = response.Value.Data[0].Embedding.ToArray();\n",
    "\n",
    "Console.WriteLine($\"Embeddings created...\");\n"
   ]
  },
  {
   "cell_type": "markdown",
   "metadata": {},
   "source": [
    "## Step 4: Calculate Cosine Distance\n",
    "\n"
   ]
  },
  {
   "cell_type": "code",
   "execution_count": 15,
   "metadata": {
    "dotnet_interactive": {
     "language": "csharp"
    },
    "polyglot_notebook": {
     "kernelName": "csharp"
    }
   },
   "outputs": [
    {
     "name": "stdout",
     "output_type": "stream",
     "text": [
      "Distance data with anomaly: 0.0023622494\n",
      "Distance data without anomaly: 0.00046974447\n",
      "...\n"
     ]
    }
   ],
   "source": [
    "using MathNet.Numerics;\n",
    "\n",
    "float distanceDegradation = Distance.Cosine(embeddingReferenceData, embeddingDegradationData);\n",
    "float distanceOk = Distance.Cosine(embeddingReferenceData, embeddingOkData);\n",
    "\n",
    "Console.WriteLine($\"Distance data with anomaly: {distanceDegradation}\");\n",
    "Console.WriteLine($\"Distance data without anomaly: {distanceOk}\");\n",
    "Console.WriteLine(\"...\");\n"
   ]
  }
 ],
 "metadata": {
  "kernelspec": {
   "display_name": ".NET (C#)",
   "language": "C#",
   "name": ".net-csharp"
  },
  "language_info": {
   "name": "polyglot-notebook"
  },
  "polyglot_notebook": {
   "kernelInfo": {
    "defaultKernelName": "csharp",
    "items": [
     {
      "aliases": [],
      "languageName": "csharp",
      "name": "csharp"
     }
    ]
   }
  }
 },
 "nbformat": 4,
 "nbformat_minor": 2
}
