{
 "cells": [
  {
   "cell_type": "markdown",
   "metadata": {},
   "source": [
    "# Anomaly Detection | GPT-4 Vision\n",
    "\n",
    "## GPT-4 Vision\n",
    "\n",
    "GPT-4 Vision, with its advanced capability to interpret and analyze images, can be employed to detect anomalies in data. By plotting the time series data into a graph, the visual representation can be provided to the GPT-4 Vision model, which can then identify irregular patterns and deviations from expected behavior.\n",
    "\n",
    "The [reference](../../TestData/TestData_Reference.txt) time series data and the time series data with [anomalies](../../TestData/TestData_Degradation.txt) introduced in [how to use embeddings to detect anomalies](./AnomalyDetection-Embedding.ipynb) has been visualized in a simple diagram: \n",
    "\n",
    "\n",
    "![](../../media/img/AnomalyChart.png)\n",
    "\n"
   ]
  },
  {
   "cell_type": "markdown",
   "metadata": {},
   "source": [
    "## Azure Environment\n",
    "\n",
    "To execute the sample code Azure service specific information like endpoint, api key etc. is needed. ([Details and instructions can be found here](../../CreateEnv/CreateEnv.azcli))\n"
   ]
  },
  {
   "cell_type": "markdown",
   "metadata": {},
   "source": [
    "## Step 1: Create OpenAIClient\n",
    "\n",
    "The OpenAIClient from Azure.AI.OpenAI is a .NET client library that acts as the centralized point for all .NET functionality that want to interact with a deployed Azure OpenAI Large Language Model. It provides methods to access the OpenAI REST APIs for various tasks such as text completion, text embedding, and chat completion, etc.. "
   ]
  },
  {
   "cell_type": "code",
   "execution_count": 24,
   "metadata": {
    "dotnet_interactive": {
     "language": "csharp"
    },
    "polyglot_notebook": {
     "kernelName": "csharp"
    }
   },
   "outputs": [
    {
     "data": {
      "text/html": [
       "<div><div></div><div></div><div><strong>Installed Packages</strong><ul><li><span>Azure.AI.OpenAI, 1.0.0-beta.17</span></li><li><span>DotNetEnv, 2.5.0</span></li></ul></div></div>"
      ]
     },
     "metadata": {},
     "output_type": "display_data"
    },
    {
     "name": "stdout",
     "output_type": "stream",
     "text": [
      "OpenAI Client created...\r\n"
     ]
    }
   ],
   "source": [
    "#r \"nuget: Azure.AI.OpenAI, 1.0.0-beta.17\"\n",
    "#r \"nuget: DotNetEnv, 2.5.0\"\n",
    "\n",
    "using Azure; \n",
    "using Azure.AI.OpenAI;\n",
    "using DotNetEnv;\n",
    "using System.IO;\n",
    "using System.Text.Json; \n",
    "\n",
    "//configuration file is created during environment creation\n",
    "static string _configurationFile = @\"../../Configuration/application.env\";\n",
    "Env.Load(_configurationFile);\n",
    "\n",
    "string openAIApiKey = Environment.GetEnvironmentVariable(\"AOAI_APIKEY\") ?? \"\";\n",
    "string openAIEndpoint = Environment.GetEnvironmentVariable(\"AOAI_ENDPOINT\") ?? \"\";\n",
    "string embeddingDeploymentName = Environment.GetEnvironmentVariable(\"EMBEDDING_DEPLOYMENTNAME\") ?? \"\";\n",
    "string completionDeploymentName = Environment.GetEnvironmentVariable(\"COMPLETION_DEPLOYMENTNAME\") ?? \"\";\n",
    "\n",
    "AzureKeyCredential azureKeyCredential = new AzureKeyCredential(openAIApiKey);\n",
    "OpenAIClient openAIClient = new OpenAIClient(new Uri(openAIEndpoint), azureKeyCredential);\n",
    "\n",
    "\n",
    "Console.WriteLine($\"OpenAI Client created...\");"
   ]
  },
  {
   "cell_type": "markdown",
   "metadata": {},
   "source": [
    "## Step2: Create Visualization\n",
    "\n",
    "Create time series data visualization"
   ]
  },
  {
   "cell_type": "code",
   "execution_count": 25,
   "metadata": {
    "dotnet_interactive": {
     "language": "csharp"
    },
    "polyglot_notebook": {
     "kernelName": "csharp"
    }
   },
   "outputs": [
    {
     "name": "stdout",
     "output_type": "stream",
     "text": [
      "Reference data points created...\n",
      "Degradation data points created...\n",
      "Diagram created...\n"
     ]
    }
   ],
   "source": [
    "using System.Drawing; \n",
    "using System.Drawing.Imaging;\n",
    "using System.Text.Json;\n",
    "using System.IO;\n",
    "\n",
    "#!import CreateDiagram.cs\n",
    "\n",
    "public class DeviceData\n",
    "{\n",
    "    public string DeviceId { get; set; } = \"\";\n",
    "    public string TimeStamp { get; set; } = \"\";\n",
    "    public float EnergyConsumption { get; set; }\n",
    "    public float Pressure { get; set; }\n",
    "}\n",
    "\n",
    "string[] referenceData = await File.ReadAllLinesAsync(\"../../TestData/TestData_Reference.txt\");\n",
    "string[] degradationData = await File.ReadAllLinesAsync(\"../../TestData/TestData_Degradation.txt\");\n",
    "\n",
    "\n",
    "PointF[] pointsReference = new PointF[10];\n",
    "int i=0;\n",
    "foreach(string line in referenceData)\n",
    "{    \n",
    "    DeviceData deviceDataReference = JsonSerializer.Deserialize<DeviceData>(line)?? new DeviceData();\n",
    "    pointsReference[i++] = new PointF(i*100, deviceDataReference.Pressure * 100);\n",
    "}\n",
    "Console.WriteLine($\"Reference data points created...\");\n",
    "\n",
    "PointF[] pointsDegradation = new PointF[10];\n",
    "i=0;\n",
    "foreach(string line in degradationData)\n",
    "{\n",
    "    DeviceData deviceDataDegradation = JsonSerializer.Deserialize<DeviceData>(line)?? new DeviceData();\n",
    "    pointsDegradation[i++] = new PointF(i*100, deviceDataDegradation.Pressure * 100);\n",
    "}\n",
    "Console.WriteLine($\"Degradation data points created...\");\n",
    "\n",
    "string diagramFile = \"./TestDiagram.jpg\";\n",
    "await Tool.CreateDiagram(diagramFile, 1000, 1000, pointsReference, pointsDegradation);\n",
    "Console.WriteLine($\"Diagram created...\");"
   ]
  },
  {
   "cell_type": "markdown",
   "metadata": {},
   "source": [
    "## Step 3: Call GPT-4 Vision\n",
    "\n",
    "GPT-4 Vision is called with a system prompt instructing the model to look for anomalies. The previously created time series diagram is provided as a byte array.\n"
   ]
  },
  {
   "cell_type": "code",
   "execution_count": 26,
   "metadata": {
    "dotnet_interactive": {
     "language": "csharp"
    },
    "polyglot_notebook": {
     "kernelName": "csharp"
    }
   },
   "outputs": [
    {
     "name": "stdout",
     "output_type": "stream",
     "text": [
      "{\"Anomaly\": \"yes\"}\r\n"
     ]
    }
   ],
   "source": [
    "\n",
    "string systemPrompt = @\"\n",
    "    You analyze time series data shown in a x,y diagram. \n",
    "    You always get two graphs presented in one diagram. \n",
    "    You see pressure values from a compressor. \n",
    "    You analyze if the pressure is equal in both graphs over a specific period of time. \n",
    "    The time is shown in the x-axis. \n",
    "    You are sensitive and check if the top value (y-axis) of both graphs is equal over the shown time period. \n",
    "    You answer with a valid JSON string. \n",
    "    The format of the JSON string is {\"\"Anomaly\"\": \"\"yes\"\"} if the pressure value is not equal over time. \n",
    "    You answer with {\"\"Anomaly\"\": \"\"no\"\"} if the pressure value is equal over time.\n",
    "\";\n",
    "string prompt = \"Given the diagram above, can you detect any anomaly in the pressure data?\";\n",
    "\n",
    "BinaryData binaryData = BinaryData.FromBytes(await File.ReadAllBytesAsync(diagramFile));\n",
    "ChatCompletionsOptions chatCompletionsOptions = new ChatCompletionsOptions()\n",
    "{\n",
    "    DeploymentName = completionDeploymentName,\n",
    "    Messages =\n",
    "    {\n",
    "        new ChatRequestSystemMessage(systemPrompt),\n",
    "        new ChatRequestUserMessage(prompt),\n",
    "        new ChatRequestUserMessage(\n",
    "            new ChatMessageTextContentItem(prompt),\n",
    "            new ChatMessageImageContentItem(binaryData, \"image/jpeg\")\n",
    "        )\n",
    "    },\n",
    "    MaxTokens = 100, \n",
    "    NucleusSamplingFactor = 0.1f,\n",
    "    Temperature = 0.1f,\n",
    "};\n",
    "\n",
    "Response<ChatCompletions> response = await openAIClient.GetChatCompletionsAsync(chatCompletionsOptions);\n",
    "Console.WriteLine($\"{response.Value.Choices[0].Message.Content}\");\n"
   ]
  }
 ],
 "metadata": {
  "kernelspec": {
   "display_name": ".NET (C#)",
   "language": "C#",
   "name": ".net-csharp"
  },
  "language_info": {
   "name": "polyglot-notebook"
  },
  "polyglot_notebook": {
   "kernelInfo": {
    "defaultKernelName": "csharp",
    "items": [
     {
      "aliases": [],
      "languageName": "csharp",
      "name": "csharp"
     }
    ]
   }
  }
 },
 "nbformat": 4,
 "nbformat_minor": 2
}
